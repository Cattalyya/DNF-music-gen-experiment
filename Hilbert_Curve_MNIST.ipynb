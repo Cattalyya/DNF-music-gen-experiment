{
 "cells": [
  {
   "cell_type": "markdown",
   "metadata": {},
   "source": [
    "# Model Training\n",
    "\n",
    "We use VAE to train our model. We then visualize it on the trained latent space."
   ]
  },
  {
   "cell_type": "code",
   "execution_count": 12,
   "metadata": {},
   "outputs": [],
   "source": [
    "#VAE code from PyTorch Tutorial\n",
    "\n",
    "from __future__ import print_function\n",
    "import argparse\n",
    "import torch\n",
    "import torch.utils.data\n",
    "from torch import nn, optim\n",
    "from torch.nn import functional as F\n",
    "from torchvision import datasets, transforms\n",
    "from torchvision.utils import save_image, make_grid"
   ]
  },
  {
   "cell_type": "code",
   "execution_count": 13,
   "metadata": {},
   "outputs": [
    {
     "name": "stdout",
     "output_type": "stream",
     "text": [
      "====> Epoch: 1 Average loss: 223.7180\n",
      "====> Epoch: 2 Average loss: 150.7219\n",
      "====> Epoch: 3 Average loss: 133.5656\n",
      "====> Epoch: 4 Average loss: 127.2752\n",
      "====> Epoch: 5 Average loss: 123.7707\n",
      "====> Epoch: 6 Average loss: 121.5046\n",
      "====> Epoch: 7 Average loss: 119.8999\n",
      "====> Epoch: 8 Average loss: 118.5908\n",
      "====> Epoch: 9 Average loss: 117.5811\n",
      "====> Epoch: 10 Average loss: 116.7298\n"
     ]
    }
   ],
   "source": [
    "epochs = 10\n",
    "\n",
    "parser = argparse.ArgumentParser(description='VAE MNIST Example')\n",
    "\n",
    "\n",
    "device = torch.device(\"cpu\")\n",
    "\n",
    "kwargs = {'num_workers': 1, 'pin_memory': True} \n",
    "train_loader = torch.utils.data.DataLoader(\n",
    "    datasets.MNIST('../data', train=True, download=True,\n",
    "                   transform=transforms.ToTensor()),\n",
    "    batch_size=512, shuffle=True, **kwargs)\n",
    "test_loader = torch.utils.data.DataLoader(\n",
    "    datasets.MNIST('../data', train=False, transform=transforms.ToTensor()),\n",
    "    batch_size=512, shuffle=True, **kwargs)\n",
    "\n",
    "\n",
    "class VAE(nn.Module):\n",
    "    def __init__(self):\n",
    "        super(VAE, self).__init__()\n",
    "\n",
    "        self.fc1 = nn.Linear(784, 400)\n",
    "        self.fc21 = nn.Linear(400, 10) # dimension of latent sapce = 10\n",
    "        self.fc22 = nn.Linear(400, 10)\n",
    "        self.fc3 = nn.Linear(10, 400)\n",
    "        self.fc4 = nn.Linear(400, 784)\n",
    "\n",
    "    def encode(self, x):\n",
    "        h1 = F.relu(self.fc1(x))\n",
    "        return self.fc21(h1), self.fc22(h1)\n",
    "\n",
    "    def reparameterize(self, mu, logvar):\n",
    "        std = torch.exp(0.5*logvar)\n",
    "        eps = torch.randn_like(std)\n",
    "        return eps.mul(std).add_(mu)\n",
    "\n",
    "    def decode(self, z):\n",
    "        h3 = F.relu(self.fc3(z))\n",
    "        return torch.sigmoid(self.fc4(h3))\n",
    "\n",
    "    def forward(self, x):\n",
    "        mu, logvar = self.encode(x.view(-1, 784))\n",
    "        z = self.reparameterize(mu, logvar)\n",
    "        return self.decode(z), mu, logvar\n",
    "\n",
    "\n",
    "model = VAE().to(device)\n",
    "optimizer = optim.Adam(model.parameters(), lr=1e-3)\n",
    "\n",
    "\n",
    "# Reconstruction + KL divergence losses summed over all elements and batch\n",
    "def loss_function(recon_x, x, mu, logvar):\n",
    "    BCE = F.binary_cross_entropy(recon_x, x.view(-1, 784), reduction='sum')\n",
    "\n",
    "    # see Appendix B from VAE paper:\n",
    "    # Kingma and Welling. Auto-Encoding Variational Bayes. ICLR, 2014\n",
    "    # https://arxiv.org/abs/1312.6114\n",
    "    # 0.5 * sum(1 + log(sigma^2) - mu^2 - sigma^2)\n",
    "    KLD = -0.5 * torch.sum(1 + logvar - mu.pow(2) - logvar.exp())\n",
    "\n",
    "    return BCE + KLD\n",
    "\n",
    "\n",
    "def train(epoch):\n",
    "    model.train()\n",
    "    train_loss = 0\n",
    "    for batch_idx, (data, _) in enumerate(train_loader):\n",
    "        data = data.to(device)\n",
    "        optimizer.zero_grad()\n",
    "        recon_batch, mu, logvar = model(data)\n",
    "        loss = loss_function(recon_batch, data, mu, logvar)\n",
    "        loss.backward()\n",
    "        train_loss += loss.item()\n",
    "        optimizer.step()\n",
    "        if batch_idx % 10 == 0:\n",
    "            '''\n",
    "            print('Train Epoch: {} [{}/{} ({:.0f}%)]\\tLoss: {:.6f}'.format(\n",
    "                epoch, batch_idx * len(data), len(train_loader.dataset),\n",
    "                100. * batch_idx / len(train_loader),\n",
    "                loss.item() / len(data)))\n",
    "\n",
    "            '''\n",
    "    print('====> Epoch: {} Average loss: {:.4f}'.format(\n",
    "          epoch, train_loss / len(train_loader.dataset)))\n",
    "\n",
    "\n",
    "def test(epoch):\n",
    "    model.eval()\n",
    "    test_loss = 0\n",
    "    with torch.no_grad():\n",
    "        for i, (data, _) in enumerate(test_loader):\n",
    "            data = data.to(device)\n",
    "            recon_batch, mu, logvar = model(data)\n",
    "            test_loss += loss_function(recon_batch, data, mu, logvar).item()\n",
    "\n",
    "    test_loss /= len(test_loader.dataset)\n",
    "    #print('====> Test set loss: {:.4f}'.format(test_loss))\n",
    "\n",
    "if __name__ == \"__main__\":\n",
    "    for epoch in range(1, epochs + 1):\n",
    "        train(epoch)\n",
    "        test(epoch)\n",
    "        with torch.no_grad():\n",
    "            sample = torch.randn(64, 10).to(device)\n",
    "            sample = model.decode(sample).cpu()\n",
    "            #save_image(sample.view(64, 1, 28, 28),'cur_result/sample_' + str(epoch) + '.png')"
   ]
  },
  {
   "cell_type": "code",
   "execution_count": 14,
   "metadata": {},
   "outputs": [
    {
     "name": "stderr",
     "output_type": "stream",
     "text": [
      "/usr/local/lib/python3.6/site-packages/torch/serialization.py:251: UserWarning: Couldn't retrieve source code for container of type VAE. It won't be checked for correctness upon loading.\n",
      "  \"type \" + obj.__name__ + \". It won't be checked \"\n"
     ]
    }
   ],
   "source": [
    "torch.save(model, './model')"
   ]
  },
  {
   "cell_type": "code",
   "execution_count": 15,
   "metadata": {},
   "outputs": [],
   "source": [
    "model = torch.load('./model')"
   ]
  },
  {
   "cell_type": "markdown",
   "metadata": {},
   "source": [
    "This section is performing random sampling on embedded space."
   ]
  },
  {
   "cell_type": "code",
   "execution_count": 31,
   "metadata": {},
   "outputs": [
    {
     "data": {
      "image/png": "[encoded data removed]",
      "text/plain": [
       "<matplotlib.figure.Figure at 0x110c5c208>"
      ]
     },
     "metadata": {
      "needs_background": "light"
     },
     "output_type": "display_data"
    },
    {
     "name": "stdout",
     "output_type": "stream",
     "text": [
      "__main__\n"
     ]
    }
   ],
   "source": [
    "import matplotlib.pyplot as plt\n",
    "import numpy as np\n",
    "\n",
    "\n",
    "temp = torch.randn(64, 10).to(device)\n",
    "temp = model.decode(temp).cpu()\n",
    "\n",
    "with torch.no_grad():\n",
    "    sample = torch.randn(64, 10).to(device)\n",
    "    sample = model.decode(sample).cpu()\n",
    "    plt.figure()\n",
    "    show(make_grid(sample.view(64, 1, 28, 28)))\n",
    "    plt.show()\n",
    "\n",
    "print(show.__module__)\n",
    "#imgplot = plt.imshow(temp2[:,1])\n",
    "#print(type(temp2))"
   ]
  },
  {
   "cell_type": "markdown",
   "metadata": {},
   "source": [
    "# Hilbert library\n",
    "Modified from https://github.com/galtay/hilbertcurve\n",
    "\n",
    "Add function get_next_time\n"
   ]
  },
  {
   "cell_type": "code",
   "execution_count": 17,
   "metadata": {},
   "outputs": [],
   "source": [
    "\n",
    "def _binary_repr(num, width):\n",
    "    \"\"\"Return a binary string representation of `num` zero padded to `width`\n",
    "    bits.\"\"\"\n",
    "    return format(num, 'b').zfill(width)\n",
    "\n",
    "\n",
    "\n",
    "class HilbertCurve:\n",
    "\n",
    "    def __init__(self, p, n):\n",
    "        \"\"\"Initialize a hilbert curve with,\n",
    "\n",
    "        Args:\n",
    "            p (int): iterations to use in the hilbert curve\n",
    "            n (int): number of dimensions\n",
    "        \"\"\"\n",
    "        if p <= 0:\n",
    "            raise ValueError('p must be > 0')\n",
    "        if n <= 0:\n",
    "            raise ValueError('n must be > 0')\n",
    "        self.p = p\n",
    "        self.n = n\n",
    "\n",
    "        # maximum distance along curve\n",
    "        self.max_h = 2**(self.p * self.n) - 1\n",
    "\n",
    "        # maximum coordinate value in any dimension\n",
    "        self.max_x = 2**self.p - 1\n",
    "\n",
    "    def _hilbert_integer_to_transpose(self, h):\n",
    "        \"\"\"Store a hilbert integer (`h`) as its transpose (`x`).\n",
    "\n",
    "        Args:\n",
    "            h (int): integer distance along hilbert curve\n",
    "\n",
    "        Returns:\n",
    "            x (list): transpose of h\n",
    "                      (n components with values between 0 and 2**p-1)\n",
    "        \"\"\"\n",
    "        h_bit_str = _binary_repr(h, self.p*self.n)\n",
    "        x = [int(h_bit_str[i::self.n], 2) for i in range(self.n)]\n",
    "        return x\n",
    "\n",
    "    def _transpose_to_hilbert_integer(self, x):\n",
    "        \"\"\"Restore a hilbert integer (`h`) from its transpose (`x`).\n",
    "\n",
    "        Args:\n",
    "            x (list): transpose of h\n",
    "                      (n components with values between 0 and 2**p-1)\n",
    "\n",
    "        Returns:\n",
    "            h (int): integer distance along hilbert curve\n",
    "        \"\"\"\n",
    "        x_bit_str = [_binary_repr(x[i], self.p) for i in range(self.n)]\n",
    "        h = int(''.join([y[i] for i in range(self.p) for y in x_bit_str]), 2)\n",
    "        return h\n",
    "\n",
    "    def coordinates_from_distance(self, h):\n",
    "        \"\"\"Return the coordinates for a given hilbert distance.\n",
    "\n",
    "        Args:\n",
    "            h (int): integer distance along hilbert curve\n",
    "\n",
    "        Returns:\n",
    "            x (list): transpose of h\n",
    "                      (n components with values between 0 and 2**p-1)\n",
    "        \"\"\"\n",
    "        if h > self.max_h:\n",
    "            raise ValueError('h={} is greater than 2**(p*N)-1={}'.format(h, self.max_h))\n",
    "        if h < 0:\n",
    "            raise ValueError('h={} but must be > 0'.format(h))\n",
    "\n",
    "            \n",
    "        #Example: 5 bits for each of n=3 coordinates.\n",
    "        #15-bit Hilbert integer = A B C D E F G H I J K L M N O is stored as its Transpose                        ^\n",
    "        #X[0] = A D G J M                    X[2] |  7\n",
    "        #X[1] = B E H K N        <------->        | /X[1]\n",
    "        #X[2] = C F I L O                   axes  |/\n",
    "        #        high low                         0------> X[0]\n",
    "        # each element in x is a p-digit value\n",
    "        \n",
    "        x = self._hilbert_integer_to_transpose(h)\n",
    "        Z = 2 << (self.p-1)\n",
    "\n",
    "        # Gray decode by H ^ (H/2)\n",
    "        # for iteration, can be parallelized\n",
    "        t = x[self.n-1] >> 1\n",
    "        for i in range(self.n-1, 0, -1):\n",
    "            x[i] ^= x[i-1]\n",
    "        x[0] ^= t\n",
    "\n",
    "        # Undo excess work\n",
    "        Q = 2\n",
    "        while Q != Z:\n",
    "            P = Q - 1\n",
    "            for i in range(self.n-1, -1, -1):\n",
    "                if x[i] & Q:\n",
    "                    # invert\n",
    "                    x[0] ^= P\n",
    "                else:\n",
    "                    # exchange\n",
    "                    t = (x[0] ^ x[i]) & P\n",
    "                    x[0] ^= t\n",
    "                    x[i] ^= t\n",
    "            Q <<= 1\n",
    "\n",
    "        # done\n",
    "        return x\n",
    "\n",
    "    def distance_from_coordinates(self, x_in):\n",
    "        \"\"\"Return the hilbert distance for a given set of coordinates.\n",
    "\n",
    "        Args:\n",
    "            x_in (list): transpose of h\n",
    "                         (n components with values between 0 and 2**p-1)\n",
    "\n",
    "        Returns:\n",
    "            h (int): integer distance along hilbert curve\n",
    "        \"\"\"\n",
    "        x = list(x_in)\n",
    "        if len(x) != self.n:\n",
    "            raise ValueError('x={} must have N={} dimensions'.format(x, self.n))\n",
    "\n",
    "        if any(elx > self.max_x for elx in x):\n",
    "            raise ValueError(\n",
    "                'invalid coordinate input x={}.  one or more dimensions have a '\n",
    "                'value greater than 2**p-1={}'.format(x, self.max_x))\n",
    "\n",
    "        if any(elx < 0 for elx in x):\n",
    "            raise ValueError(\n",
    "                'invalid coordinate input x={}.  one or more dimensions have a '\n",
    "                'value less than 0'.format(x))\n",
    "\n",
    "        M = 1 << (self.p - 1)\n",
    "\n",
    "        # Inverse undo excess work\n",
    "        Q = M\n",
    "        while Q > 1:\n",
    "            P = Q - 1\n",
    "            for i in range(self.n):\n",
    "                if x[i] & Q:\n",
    "                    x[0] ^= P\n",
    "                else:\n",
    "                    t = (x[0] ^ x[i]) & P\n",
    "                    x[0] ^= t\n",
    "                    x[i] ^= t\n",
    "            Q >>= 1\n",
    "\n",
    "        # Gray encode\n",
    "        for i in range(1, self.n):\n",
    "            x[i] ^= x[i-1]\n",
    "        t = 0\n",
    "        Q = M\n",
    "        while Q > 1:\n",
    "            if x[self.n-1] & Q:\n",
    "                t ^= Q - 1\n",
    "            Q >>= 1\n",
    "        for i in range(self.n):\n",
    "            x[i] ^= t\n",
    "\n",
    "        h = self._transpose_to_hilbert_integer(x)\n",
    "        return h\n",
    "    \n",
    "    def get_next_time(self, cur_t, v):\n",
    "        next_t = (cur_t * (2**(self.n*self.p)-1) + v) / (2**(self.n*self.p)-1)\n",
    "        return next_t"
   ]
  },
  {
   "cell_type": "markdown",
   "metadata": {},
   "source": [
    "# Visualisation of Latent Space\n",
    "\n",
    "We use the hilbert curve to sample the latent space."
   ]
  },
  {
   "cell_type": "code",
   "execution_count": 18,
   "metadata": {
    "scrolled": false
   },
   "outputs": [
    {
     "data": {
      "application/vnd.jupyter.widget-view+json": {
       "model_id": "82c49d58e79943f09e3befb52e104029",
       "version_major": 2,
       "version_minor": 0
      },
      "text/plain": [
       "Button(description='Next Time Stamp', style=ButtonStyle())"
      ]
     },
     "metadata": {},
     "output_type": "display_data"
    },
    {
     "data": {
      "application/vnd.jupyter.widget-view+json": {
       "model_id": "aa7ea64e630b4ec3bdd7312b9534a610",
       "version_major": 2,
       "version_minor": 0
      },
      "text/plain": [
       "interactive(children=(IntSlider(value=1, description='p', max=10, min=1), FloatSlider(value=0.1, description='…"
      ]
     },
     "metadata": {},
     "output_type": "display_data"
    },
    {
     "data": {
      "application/vnd.jupyter.widget-view+json": {
       "model_id": "b68302b39df3442e9347bd9e050b2348",
       "version_major": 2,
       "version_minor": 0
      },
      "text/plain": [
       "Text(value='', description='Current t: ')"
      ]
     },
     "metadata": {},
     "output_type": "display_data"
    },
    {
     "data": {
      "application/vnd.jupyter.widget-view+json": {
       "model_id": "1a54cda8944a41169b464cb6096dae2c",
       "version_major": 2,
       "version_minor": 0
      },
      "text/plain": [
       "Text(value='', description='Coordinate: ')"
      ]
     },
     "metadata": {},
     "output_type": "display_data"
    }
   ],
   "source": [
    "from ipywidgets import interact_manual, interact, Button\n",
    "from IPython.display import display\n",
    "import ipywidgets as widgets\n",
    "#from hilbert import HilbertCurve\n",
    "import numpy as np\n",
    "\n",
    "global p_widget, t_widget\n",
    "\n",
    "#function required to do plotting\n",
    "def show(img):\n",
    "    npimg = img.detach().numpy()\n",
    "    plt.imshow(np.transpose(npimg, (1, 2, 0)), interpolation='nearest')\n",
    "    plt.show()\n",
    "\n",
    "#N: dimension of embedded space\n",
    "N = 10\n",
    "\n",
    "#v: velocity of travelling (the step size it moved on curve when clicking \"next time stamp\")\n",
    "v = 10\n",
    "\n",
    "def plotting(p=4, t=0.6):\n",
    "    hilbert_curve = HilbertCurve(p, N) #initialize hilbert curve\n",
    "    cur_dist = int(t * (2**(N*p)-1)) #t is in scale [0,1], dist is in scale[0, 2^(Np)-1]\n",
    "    \n",
    "    #sample points near cur_dist\n",
    "    dists = [cur_dist-10, cur_dist-5, cur_dist, cur_dist+5, cur_dist+10] \n",
    "    \n",
    "    \n",
    "    coords = [hilbert_curve.coordinates_from_distance(dist) for dist in dists]\n",
    "\n",
    "    norm_coords = np.array([[[((coord_x / (2**(p-1)))-1) for coord_x in coord]]  for coord in coords])\n",
    "    #convert coords in hyperspace back to scale [-1,1] (the latent space we're exploring)\n",
    "\n",
    "    b = torch.tensor(norm_coords).type(torch.FloatTensor).to(device)\n",
    "    sample = model.decode(b).cpu() #decode norm_coords\n",
    "    show(make_grid(sample.view(5, 1, 28, 28)))\n",
    "    cur_t.value = str(t_widget.value)\n",
    "    cur_pos.value = str(coords[2])\n",
    "    \n",
    "    plt.figure()\n",
    "    x_c = np.arange(N)\n",
    "    y_c = norm_coords[2].flatten()\n",
    "    plt.xlabel(\"Coordinate Index\")\n",
    "    plt.ylabel(\"Location in Embedded Space (normalized to [-1,1])\")\n",
    "    plt.ylim((-1,1))\n",
    "    plt.bar(x_c, y_c)\n",
    "    \n",
    "    \n",
    "    \n",
    "    \n",
    "p_widget = widgets.IntSlider(min = 1, max = 10, val = 4)\n",
    "t_widget = widgets.FloatSlider(min=0.1, max = 1,  step=1e-3)\n",
    "\n",
    "button = Button (description = \"Next Time Stamp\")\n",
    "display(button)\n",
    "\n",
    "def on_button_clicked(b):\n",
    "    cur_curve = HilbertCurve(p_widget.value, N)\n",
    "    t_widget.value = cur_curve.get_next_time(t_widget.value,v) #update t_value on widget\n",
    "\n",
    "\n",
    "\n",
    "button.on_click(on_button_clicked)\n",
    "\n",
    "interactive_plot = interact(plotting, p = p_widget, t=t_widget)\n",
    "interactive_plot\n",
    "\n",
    "cur_t = widgets.Text(description = \"Current t: \")\n",
    "display(cur_t)\n",
    "\n",
    "cur_pos = widgets.Text(description = \"Coordinate: \")\n",
    "display(cur_pos)\n",
    "\n"
   ]
  },
  {
   "cell_type": "code",
   "execution_count": null,
   "metadata": {},
   "outputs": [],
   "source": []
  },
  {
   "cell_type": "code",
   "execution_count": null,
   "metadata": {},
   "outputs": [],
   "source": []
  },
  {
   "cell_type": "code",
   "execution_count": null,
   "metadata": {},
   "outputs": [],
   "source": []
  }
 ],
 "metadata": {
  "kernelspec": {
   "display_name": "Python 3",
   "language": "python",
   "name": "python3"
  },
  "language_info": {
   "codemirror_mode": {
    "name": "ipython",
    "version": 3
   },
   "file_extension": ".py",
   "mimetype": "text/x-python",
   "name": "python",
   "nbconvert_exporter": "python",
   "pygments_lexer": "ipython3",
   "version": "3.6.5"
  }
 },
 "nbformat": 4,
 "nbformat_minor": 2
}
